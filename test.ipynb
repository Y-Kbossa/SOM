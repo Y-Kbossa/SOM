{
 "cells": [
  {
   "cell_type": "code",
   "execution_count": 2,
   "metadata": {},
   "outputs": [],
   "source": [
    "import numpy as np\n",
    "import numpy.random as random\n",
    "import matplotlib.pyplot as plt\n",
    "%matplotlib inline"
   ]
  },
  {
   "cell_type": "code",
   "execution_count": 4,
   "metadata": {},
   "outputs": [],
   "source": [
    "def color_panel(row, column):\n",
    "    pixel_num = row * column\n",
    "    image = []\n",
    "    for _ in range(pixel_num):\n",
    "        image.append(random.randint(0,256, 3))\n",
    "    result = np.array(image).reshape(row, column, 3)\n",
    "    return result"
   ]
  },
  {
   "cell_type": "code",
   "execution_count": 48,
   "metadata": {},
   "outputs": [],
   "source": [
    "image = color_panel(3,3)"
   ]
  },
  {
   "cell_type": "code",
   "execution_count": 18,
   "metadata": {
    "scrolled": true
   },
   "outputs": [
    {
     "data": {
      "text/plain": [
       "array([[[101, 213,   8],\n",
       "        [ 17, 197, 215],\n",
       "        [ 67, 136,  49]],\n",
       "\n",
       "       [[ 14, 110, 115],\n",
       "        [ 56, 168, 141],\n",
       "        [207, 172,   6]],\n",
       "\n",
       "       [[ 18, 153,  70],\n",
       "        [184, 117,  64],\n",
       "        [ 49, 255, 204]]])"
      ]
     },
     "execution_count": 18,
     "metadata": {},
     "output_type": "execute_result"
    }
   ],
   "source": [
    "image"
   ]
  },
  {
   "cell_type": "code",
   "execution_count": 22,
   "metadata": {
    "scrolled": true
   },
   "outputs": [
    {
     "data": {
      "text/plain": [
       "array([[101, 213,   8],\n",
       "       [ 17, 197, 215],\n",
       "       [ 67, 136,  49],\n",
       "       [ 14, 110, 115],\n",
       "       [ 56, 168, 141],\n",
       "       [207, 172,   6],\n",
       "       [ 18, 153,  70],\n",
       "       [184, 117,  64],\n",
       "       [ 49, 255, 204]])"
      ]
     },
     "execution_count": 22,
     "metadata": {},
     "output_type": "execute_result"
    }
   ],
   "source": [
    "image.reshape(image.shape[0] * image.shape[1], 3)"
   ]
  },
  {
   "cell_type": "code",
   "execution_count": 23,
   "metadata": {},
   "outputs": [],
   "source": [
    "sample = random.randint(0,256, 3)"
   ]
  },
  {
   "cell_type": "code",
   "execution_count": 27,
   "metadata": {},
   "outputs": [
    {
     "data": {
      "text/plain": [
       "35171"
      ]
     },
     "execution_count": 27,
     "metadata": {},
     "output_type": "execute_result"
    }
   ],
   "source": [
    "np.sum(np.square(image[0][0] - sample))"
   ]
  },
  {
   "cell_type": "code",
   "execution_count": 53,
   "metadata": {},
   "outputs": [],
   "source": [
    "def nearest_color(image):\n",
    "    sample = random.randint(0,256, 3)\n",
    "    plt.imshow(sample.reshape(1,1,3))\n",
    "    diff = []\n",
    "    for pixel in image.reshape(image.shape[0] * image.shape[1], 3):\n",
    "        diff.append(np.sum(np.square(pixel - sample)))\n",
    "    print(diff)\n",
    "    plt.show()\n",
    "    return np.argmin(diff)"
   ]
  },
  {
   "cell_type": "code",
   "execution_count": 49,
   "metadata": {},
   "outputs": [
    {
     "data": {
      "image/png": "[encoded data removed]",
      "text/plain": [
       "<Figure size 432x288 with 1 Axes>"
      ]
     },
     "metadata": {},
     "output_type": "display_data"
    }
   ],
   "source": [
    "plt.imshow(image)\n",
    "plt.show()"
   ]
  },
  {
   "cell_type": "code",
   "execution_count": 57,
   "metadata": {
    "scrolled": true
   },
   "outputs": [
    {
     "name": "stdout",
     "output_type": "stream",
     "text": [
      "[77222, 42956, 33661, 37317, 61601, 38378, 19949, 10171, 1293]\n"
     ]
    },
    {
     "data": {
      "image/png": "[encoded data removed]",
      "text/plain": [
       "<Figure size 432x288 with 1 Axes>"
      ]
     },
     "metadata": {},
     "output_type": "display_data"
    }
   ],
   "source": [
    "ans = nearest_color(image)"
   ]
  },
  {
   "cell_type": "code",
   "execution_count": 61,
   "metadata": {},
   "outputs": [],
   "source": [
    "a= image[0][0]\n",
    "b= image[0][1]"
   ]
  },
  {
   "cell_type": "code",
   "execution_count": 66,
   "metadata": {},
   "outputs": [
    {
     "data": {
      "text/plain": [
       "array([360, 182, 292])"
      ]
     },
     "execution_count": 66,
     "metadata": {},
     "output_type": "execute_result"
    }
   ],
   "source": [
    "np.array(a+b/2, dtype = int)"
   ]
  },
  {
   "cell_type": "code",
   "execution_count": 63,
   "metadata": {},
   "outputs": [
    {
     "data": {
      "text/plain": [
       "190.66666666666666"
      ]
     },
     "execution_count": 63,
     "metadata": {},
     "output_type": "execute_result"
    }
   ],
   "source": [
    "np.average(a)"
   ]
  },
  {
   "cell_type": "code",
   "execution_count": 70,
   "metadata": {},
   "outputs": [
    {
     "data": {
      "text/plain": [
       "1"
      ]
     },
     "execution_count": 70,
     "metadata": {},
     "output_type": "execute_result"
    }
   ],
   "source": [
    "5 %2"
   ]
  },
  {
   "cell_type": "code",
   "execution_count": 3,
   "metadata": {},
   "outputs": [],
   "source": [
    "try:\n",
    "    a = 1+1\n",
    "except:\n",
    "    print(\"S\")"
   ]
  },
  {
   "cell_type": "code",
   "execution_count": 6,
   "metadata": {},
   "outputs": [
    {
     "ename": "SyntaxError",
     "evalue": "invalid syntax (<ipython-input-6-96e23b907f81>, line 24)",
     "traceback": [
      "\u001b[0;36m  File \u001b[0;32m\"<ipython-input-6-96e23b907f81>\"\u001b[0;36m, line \u001b[0;32m24\u001b[0m\n\u001b[0;31m    self.image[row-1, column+1] = np.array((self.image[row-1, column+] + min_pixel)/2, dtype=int)\u001b[0m\n\u001b[0m                                                                     ^\u001b[0m\n\u001b[0;31mSyntaxError\u001b[0m\u001b[0;31m:\u001b[0m invalid syntax\n"
     ],
     "output_type": "error"
    }
   ],
   "source": [
    "class SOM:\n",
    "    def __init__(self):\n",
    "        self.image = image\n",
    "        self.row = image.shape[0]\n",
    "        self.column = image.shape[1]\n",
    "    def nearest_color(self):\n",
    "        sample = random.randint(0,256, 3)\n",
    "        plt.imshow(sample.reshape(1,1,3))\n",
    "        diff = []\n",
    "        self.image_flatten = self.image.reshape(self.row * self.column, 3)\n",
    "        for pixel in self.image_flatten:\n",
    "            diff.append(np.sum(np.square(pixel - sample)))\n",
    "        plt.show()\n",
    "        self.min = np.argmin(diff)\n",
    "    def color_fusion(self):\n",
    "        min_pixel = self.image_flatten[self.min]\n",
    "        row = self.min // self.column\n",
    "        column = self.min % self.column\n",
    "        if row >= 1:\n",
    "            self.image[row-1, column] = np.array((self.image[row-1, column] + min_pixel)/2, dtype=int)\n",
    "        elif row >= 1 & column >= 1:\n",
    "            self.image[row-1, column-1] = np.array((self.image[row-1, column-1] + min_pixel)/2, dtype=int)\n",
    "        elif row >= 1 & column <= self.column-2:\n",
    "            self.image[row-1, column+1] = np.array((self.image[row-1, column+] + min_pixel)/2, dtype=int)\n",
    "        elif column >= 1:\n",
    "            self.image[row, column-1] = np.array((self.image[row, column-1] + min_pixel)/2, dtype=int)\n",
    "        elif column <= self.column-2:\n",
    "            self.image[row, column+1] = np.array((self.image[row, column+1] + min_pixel)/2, dtype=int)\n",
    "        elif row <= self.row-2 :\n",
    "            self.image[row+1, column] = np.array((self.image[row+1, column] + min_pixel)/2, dtype=int)\n",
    "        elif row <= self.row-2 & column >= 1 :\n",
    "            self.image[row+1, column-1] = np.array((self.image[row+1, column-1] + min_pixel)/2, dtype=int)\n",
    "        elif row <= self.row-2  & column <= self.column-2:\n",
    "            self.image[row+1, column+1] = np.array((self.image[row+1, column+1] + min_pixel)/2, dtype=int)"
   ]
  },
  {
   "cell_type": "code",
   "execution_count": 58,
   "metadata": {},
   "outputs": [
    {
     "data": {
      "text/plain": [
       "8"
      ]
     },
     "execution_count": 58,
     "metadata": {},
     "output_type": "execute_result"
    }
   ],
   "source": [
    "ans"
   ]
  },
  {
   "cell_type": "code",
   "execution_count": null,
   "metadata": {},
   "outputs": [],
   "source": [
    "def color_fusion(image, num):\n",
    "    row = image.shape[0]\n",
    "    column = image.shape[1]\n",
    "    image = image.reshape(image.shape[0] * image.shape[1], 3):"
   ]
  },
  {
   "cell_type": "code",
   "execution_count": 15,
   "metadata": {},
   "outputs": [
    {
     "data": {
      "text/plain": [
       "array([ 19,  40, 136])"
      ]
     },
     "execution_count": 15,
     "metadata": {},
     "output_type": "execute_result"
    }
   ],
   "source": [
    "image[0][0]"
   ]
  },
  {
   "cell_type": "code",
   "execution_count": null,
   "metadata": {},
   "outputs": [],
   "source": []
  }
 ],
 "metadata": {
  "kernelspec": {
   "display_name": "Python 3",
   "language": "python",
   "name": "python3"
  },
  "language_info": {
   "codemirror_mode": {
    "name": "ipython",
    "version": 3
   },
   "file_extension": ".py",
   "mimetype": "text/x-python",
   "name": "python",
   "nbconvert_exporter": "python",
   "pygments_lexer": "ipython3",
   "version": "3.6.5"
  }
 },
 "nbformat": 4,
 "nbformat_minor": 1
}
